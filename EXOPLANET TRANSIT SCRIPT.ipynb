{
 "cells": [
  {
   "cell_type": "code",
   "execution_count": 1,
   "id": "65ae17de",
   "metadata": {},
   "outputs": [
    {
     "name": "stdout",
     "output_type": "stream",
     "text": [
      "['2022-09-01 16:07:58.943' '2022-09-03 17:28:38.552'\n",
      " '2022-09-05 18:49:18.162' '2022-09-07 20:09:57.772'\n",
      " '2022-09-09 21:30:37.381' '2022-09-11 22:51:16.991'\n",
      " '2022-09-14 00:11:56.600' '2022-09-16 01:32:36.210'\n",
      " '2022-09-18 02:53:15.820' '2022-09-20 04:13:55.429'\n",
      " '2022-09-22 05:34:35.039' '2022-09-24 06:55:14.648'\n",
      " '2022-09-26 08:15:54.258' '2022-09-28 09:36:33.868'\n",
      " '2022-09-30 10:57:13.477']\n",
      "\n"
     ]
    }
   ],
   "source": [
    "import numpy as np\n",
    "from astropy.time import Time\n",
    "\n",
    "lowerBound = 2459823.5 #Set a lowerbound for September 1st 2022. In units of Julian Days\n",
    "upperBound = 2459853.5 #Set an upperbound for October 1st 2022. In units of Julian  Days\n",
    "JD_vals = [] #Initialize an empty list\n",
    "JD = 2458765.325 #THE EXOPLANET'S tzero_tr TIME (taken from http://exoplanet.eu/catalog/), in Julian Days\n",
    "period = 2.056014 #THE EXOPLANET'S ORBITAL PERIOD, in Days\n",
    "\n",
    "temp = JD #THIS LOOP IS NECESSARY TO SKIP PAST ALL THE DATES BEFORE OUR LOWERBOUND DATE\n",
    "while temp < lowerBound:\n",
    "    temp += period\n",
    "lowerBound = temp\n",
    "\n",
    "lb = lowerBound - JD #THIS LOOP GIVES US ALL THE TRANSIT TIMES WITHIN OUR DESIRED DATE BOUNDS\n",
    "ub = upperBound - JD\n",
    "i = lb\n",
    "while i < ub:\n",
    "  JD_vals.append(i)\n",
    "  i += period;\n",
    "\n",
    "JD_valsarr = np.array(JD_vals) + JD\n",
    "t = Time(JD_valsarr, format='jd', scale='utc') \n",
    "print(t.to_value('iso')) #Converts from julian days to UTC time\n",
    "print()"
   ]
  },
  {
   "cell_type": "code",
   "execution_count": null,
   "id": "1d12062f",
   "metadata": {},
   "outputs": [],
   "source": []
  }
 ],
 "metadata": {
  "kernelspec": {
   "display_name": "Python 3 (ipykernel)",
   "language": "python",
   "name": "python3"
  },
  "language_info": {
   "codemirror_mode": {
    "name": "ipython",
    "version": 3
   },
   "file_extension": ".py",
   "mimetype": "text/x-python",
   "name": "python",
   "nbconvert_exporter": "python",
   "pygments_lexer": "ipython3",
   "version": "3.9.12"
  }
 },
 "nbformat": 4,
 "nbformat_minor": 5
}
